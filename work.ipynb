{
 "cells": [
  {
   "cell_type": "code",
   "execution_count": 2,
   "outputs": [],
   "source": [
    "import numpy as np\n",
    "import scipy.linalg as spl\n",
    "from numpy import kron\n",
    "from common_symbols import *\n",
    "import matplotlib.pyplot as plt"
   ],
   "metadata": {
    "collapsed": false,
    "pycharm": {
     "name": "#%%\n"
    }
   }
  },
  {
   "cell_type": "code",
   "execution_count": 5,
   "outputs": [
    {
     "name": "stdout",
     "output_type": "stream",
     "text": [
      "[2]\n",
      "[2, 4]\n",
      "[2, 4, 8]\n",
      "[2, 4, 8, 16]\n",
      "[2, 4, 8, 16, 11]\n",
      "[2, 4, 8, 16, 11, 1]\n",
      "[2, 4, 8, 16, 11, 1]\n"
     ]
    }
   ],
   "source": [
    "import time\n",
    "repeated = False\n",
    "cycle = [2]\n",
    "while not repeated:\n",
    "    print(cycle)\n",
    "    elt = (cycle[-1] * 2) % 21\n",
    "    if elt not in cycle:\n",
    "        cycle.append(elt)\n",
    "    else:\n",
    "        repeated = True\n",
    "reprint(cycle)"
   ],
   "metadata": {
    "collapsed": false,
    "pycharm": {
     "name": "#%%\n"
    }
   }
  },
  {
   "cell_type": "code",
   "execution_count": 38,
   "outputs": [
    {
     "data": {
      "text/plain": "<Figure size 640x480 with 1 Axes>",
      "image/png": "[encoded data removed]"
     },
     "metadata": {},
     "output_type": "display_data"
    }
   ],
   "source": [
    "ref = {}\n",
    "n = 21\n",
    "for k in range(n):\n",
    "    arr = np.zeros(n)\n",
    "    arr[k] = 1\n",
    "    ref[k] = arr\n",
    "U = np.zeros((n,n))\n",
    "for k in range(n):\n",
    "    U[:, k] = ref[(2*k) % n]\n",
    "plt.spy(U)\n",
    "plt.show()"
   ],
   "metadata": {
    "collapsed": false,
    "pycharm": {
     "name": "#%%\n"
    }
   }
  },
  {
   "cell_type": "code",
   "execution_count": 39,
   "outputs": [
    {
     "name": "stdout",
     "output_type": "stream",
     "text": [
      "0.0\n",
      "0.0\n",
      "0.0\n",
      "0.0\n",
      "0.0\n",
      "0.0\n",
      "0.0\n",
      "0.0\n",
      "0.0\n",
      "0.0\n",
      "0.0\n",
      "0.0\n",
      "0.0\n",
      "0.0\n",
      "0.0\n",
      "0.0\n",
      "0.0\n",
      "0.0\n",
      "0.0\n",
      "0.0\n",
      "0.0\n"
     ]
    }
   ],
   "source": [
    "for k in range(n):\n",
    "    print(np.max(np.abs(U@ref[k] - ref[(2*k) % 21])))\n"
   ],
   "metadata": {
    "collapsed": false,
    "pycharm": {
     "name": "#%%\n"
    }
   }
  },
  {
   "cell_type": "code",
   "execution_count": 75,
   "outputs": [
    {
     "name": "stdout",
     "output_type": "stream",
     "text": [
      "\n",
      "\n",
      "\n",
      "\n",
      "\n",
      "\n",
      "\n",
      "\n",
      "\n",
      "\n",
      "\n",
      "\n",
      "\n",
      "\n",
      "\n",
      "\n",
      "\n",
      "\n",
      "\n",
      "\n",
      "\n"
     ]
    }
   ],
   "source": [
    "vals, vects = np.linalg.eigh(U)\n",
    "pairs = []\n",
    "r = 6\n",
    "for k in range(n):\n",
    "    arr = np.zeros(n, dtype = complex)\n",
    "    for j in range(r):\n",
    "        term = np.exp(2j*np.pi*k * j/r) * ref[(2**j) % 21]\n",
    "        # print(term)\n",
    "        arr += term\n",
    "    vect = 1/np.sqrt(r)*arr\n",
    "    pairs.append((np.exp(-2j*np.pi*k/r), vect))\n",
    "    print()"
   ],
   "metadata": {
    "collapsed": false,
    "pycharm": {
     "name": "#%%\n"
    }
   }
  },
  {
   "cell_type": "code",
   "execution_count": 77,
   "outputs": [
    {
     "name": "stdout",
     "output_type": "stream",
     "text": [
      "0.0\n",
      "\n",
      "3.2368285245694683e-16\n",
      "\n",
      "5.003707553108401e-16\n",
      "\n",
      "1.0251706202433126e-15\n",
      "\n",
      "1.1430445635548515e-15\n",
      "\n",
      "1.0948510389028342e-15\n",
      "\n",
      "2.0503412404866253e-15\n",
      "\n",
      "1.0778315928076987e-15\n",
      "\n",
      "2.162086298235271e-15\n",
      "\n",
      "1.4503892858778864e-15\n",
      "\n",
      "2.1897020778056683e-15\n",
      "\n",
      "4.6992246958774e-15\n",
      "\n",
      "4.1006824809732506e-15\n",
      "\n",
      "7.2377686124476805e-16\n",
      "\n",
      "2.137900124893534e-15\n",
      "\n",
      "5.076362500572603e-15\n",
      "\n",
      "4.303457022584014e-15\n",
      "\n",
      "2.9743980322962845e-15\n",
      "\n",
      "2.900778571755773e-15\n",
      "\n",
      "5.77402702464221e-15\n",
      "\n",
      "4.3515219421732556e-15\n",
      "\n"
     ]
    }
   ],
   "source": [
    "for (val, vect) in pairs:\n",
    "    print(np.max(np.abs(U@vect- val*vect)))\n",
    "    # print(np.linalg.norm(vect))\n",
    "    print()"
   ],
   "metadata": {
    "collapsed": false,
    "pycharm": {
     "name": "#%%\n"
    }
   }
  },
  {
   "cell_type": "code",
   "execution_count": 82,
   "outputs": [
    {
     "name": "stdout",
     "output_type": "stream",
     "text": [
      "4\n"
     ]
    }
   ],
   "source": [
    "cnt = 0\n",
    "for k in range(n):\n",
    "    cnt += 1 if k%2 == 0 and k%3 == 0 else 0\n",
    "print(cnt)"
   ],
   "metadata": {
    "collapsed": false,
    "pycharm": {
     "name": "#%%\n"
    }
   }
  },
  {
   "cell_type": "code",
   "execution_count": 90,
   "outputs": [
    {
     "name": "stdout",
     "output_type": "stream",
     "text": [
      "(1, True)\n",
      "\n",
      "(1, True)\n",
      "\n",
      "(6, False)\n",
      "[2, 4, 8, 16, 11, 1]\n",
      "\n",
      "(6, False)\n",
      "[3, 9, 6, 18, 12, 15]\n",
      "\n",
      "(3, True)\n",
      "\n",
      "(6, False)\n",
      "[5, 4, 20, 16, 17, 1]\n",
      "\n",
      "(2, False)\n",
      "[6, 15]\n",
      "\n",
      "(1, True)\n",
      "\n",
      "(2, False)\n",
      "[8, 1]\n",
      "\n",
      "(3, True)\n",
      "\n",
      "(6, False)\n",
      "[10, 16, 13, 4, 19, 1]\n",
      "\n",
      "(6, False)\n",
      "[11, 16, 8, 4, 2, 1]\n",
      "\n",
      "(6, False)\n",
      "[12, 18, 6, 9, 3, 15]\n",
      "\n",
      "(2, False)\n",
      "[13, 1]\n",
      "\n",
      "(2, False)\n",
      "[14, 7]\n",
      "\n",
      "(1, True)\n",
      "\n",
      "(3, True)\n",
      "\n",
      "(6, False)\n",
      "[17, 16, 20, 4, 5, 1]\n",
      "\n",
      "(3, True)\n",
      "\n",
      "(6, False)\n",
      "[19, 4, 13, 16, 10, 1]\n",
      "\n",
      "(2, False)\n",
      "[20, 1]\n",
      "\n"
     ]
    }
   ],
   "source": [
    "n = 21\n",
    "def get_cycle(g,n):\n",
    "    repeated = False\n",
    "    cycle = [g]\n",
    "    while not repeated:\n",
    "        elt = (cycle[-1] * g) % n\n",
    "        if elt not in cycle:\n",
    "            cycle.append(elt)\n",
    "        else:\n",
    "            repeated = True\n",
    "    return cycle\n",
    "\n",
    "for k in range(n):\n",
    "    size = len(get_cycle(k,n))\n",
    "    print((size, n % size == 0))\n",
    "    if n%size != 0:\n",
    "        print(get_cycle(k,n))\n",
    "    print()\n"
   ],
   "metadata": {
    "collapsed": false,
    "pycharm": {
     "name": "#%%\n"
    }
   }
  },
  {
   "cell_type": "code",
   "execution_count": null,
   "outputs": [],
   "source": [
    "np.linalg.det(1/np.sqrt(2) * (I2 + 1j*sigma_z))"
   ],
   "metadata": {
    "collapsed": false,
    "pycharm": {
     "name": "#%%\n"
    }
   }
  },
  {
   "cell_type": "code",
   "execution_count": null,
   "outputs": [],
   "source": [
    "np.exp(1j*np.pi/4)*np.array([[0,-1j],[1,0]])-tmp"
   ],
   "metadata": {
    "collapsed": false,
    "pycharm": {
     "name": "#%%\n"
    }
   }
  },
  {
   "cell_type": "code",
   "execution_count": null,
   "outputs": [],
   "source": [
    "b1 = 2/np.sqrt(5)*z + 1/np.sqrt(5)*o\n",
    "b2 = 2/np.sqrt(5)*z - 1/np.sqrt(5)*o\n",
    "print(b2.dot(b2))"
   ],
   "metadata": {
    "collapsed": false,
    "pycharm": {
     "name": "#%%\n"
    }
   }
  },
  {
   "cell_type": "code",
   "execution_count": null,
   "outputs": [],
   "source": [],
   "metadata": {
    "collapsed": false,
    "pycharm": {
     "name": "#%%\n"
    }
   }
  }
 ],
 "metadata": {
  "kernelspec": {
   "display_name": "Python 3",
   "language": "python",
   "name": "python3"
  },
  "language_info": {
   "codemirror_mode": {
    "name": "ipython",
    "version": 2
   },
   "file_extension": ".py",
   "mimetype": "text/x-python",
   "name": "python",
   "nbconvert_exporter": "python",
   "pygments_lexer": "ipython2",
   "version": "2.7.6"
  }
 },
 "nbformat": 4,
 "nbformat_minor": 0
}