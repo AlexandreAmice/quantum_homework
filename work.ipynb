{
 "cells": [
  {
   "cell_type": "code",
   "execution_count": 2,
   "outputs": [],
   "source": [
    "import numpy as np\n",
    "import scipy.linalg as spl\n",
    "from numpy import kron\n",
    "from common_symbols import *\n",
    "import matplotlib.pyplot as plt"
   ],
   "metadata": {
    "collapsed": false,
    "pycharm": {
     "name": "#%%\n"
    }
   }
  },
  {
   "cell_type": "code",
   "execution_count": 3,
   "outputs": [],
   "source": [
    "b1 = zz\n",
    "b2 = zo\n",
    "b3 = kron(o, plus)\n",
    "b4 = kron(o, minus)\n",
    "basis = (b1, b2, b3, b4)"
   ],
   "metadata": {
    "collapsed": false,
    "pycharm": {
     "name": "#%%\n"
    }
   }
  },
  {
   "cell_type": "code",
   "execution_count": 4,
   "outputs": [
    {
     "name": "stdout",
     "output_type": "stream",
     "text": [
      "[1. 0. 0. 0.]\n",
      "\n",
      "[0. 1. 0. 0.]\n",
      "\n",
      "[0.         0.         0.70710678 0.70710678]\n",
      "\n",
      "[ 0.          0.         -0.70710678  0.70710678]\n",
      "\n"
     ]
    }
   ],
   "source": [
    "for b in basis:\n",
    "    print(CNOT@b)\n",
    "    print()"
   ],
   "metadata": {
    "collapsed": false,
    "pycharm": {
     "name": "#%%\n"
    }
   }
  },
  {
   "cell_type": "code",
   "execution_count": 5,
   "outputs": [],
   "source": [
    "e1 = kron(z, bb1)\n",
    "e2 = kron(o, bb1)\n",
    "e3 = kron(plus, bb1)\n",
    "e4 = kron(minus, bb1)\n",
    "e_basis = (e1, e2, e3, e4)"
   ],
   "metadata": {
    "collapsed": false,
    "pycharm": {
     "name": "#%%\n"
    }
   }
  },
  {
   "cell_type": "code",
   "execution_count": 6,
   "outputs": [
    {
     "name": "stdout",
     "output_type": "stream",
     "text": [
      "[0. 0. 0. 0. 0. 0. 0. 0.]\n",
      "[0. 0. 0. 0. 0. 0. 0. 0.]\n",
      "[-1.11022302e-16  0.00000000e+00  0.00000000e+00 -1.11022302e-16\n",
      "  0.00000000e+00 -1.11022302e-16 -1.11022302e-16  0.00000000e+00]\n",
      "[-1.11022302e-16  0.00000000e+00  0.00000000e+00 -1.11022302e-16\n",
      "  0.00000000e+00  1.11022302e-16  1.11022302e-16  0.00000000e+00]\n"
     ]
    }
   ],
   "source": [
    "print(kron(CNOT, I2)@e1 - 1/np.sqrt(2)*(zzz + zoo))\n",
    "print(kron(CNOT, I2)@e2 - 1/np.sqrt(2)*(ooz+ozo))\n",
    "print(kron(CNOT, I2)@e3 - 1/2*(zzz + ooz + zoo + ozo))\n",
    "print(kron(CNOT, I2)@e4 - 1/2*((zzz - ooz + zoo - ozo)))"
   ],
   "metadata": {
    "collapsed": false,
    "pycharm": {
     "name": "#%%\n"
    }
   }
  },
  {
   "cell_type": "code",
   "execution_count": 7,
   "outputs": [
    {
     "name": "stdout",
     "output_type": "stream",
     "text": [
      "[ 0.          0.          0.          0.          0.         -0.70710678\n",
      " -0.70710678  0.        ]\n",
      "[-0.70710678  0.          0.         -0.70710678  0.          1.41421356\n",
      "  1.41421356  0.        ]\n"
     ]
    }
   ],
   "source": [
    "print(kron(CNOT, I2)@e1 - 1/np.sqrt(2)*(zzz + ooz + zoo + ozo))\n",
    "print(kron(CNOT, I2)@e2 - 1/np.sqrt(2)*((zzz - ooz + zoo - ozo)))"
   ],
   "metadata": {
    "collapsed": false,
    "pycharm": {
     "name": "#%%\n"
    }
   }
  },
  {
   "cell_type": "code",
   "execution_count": 8,
   "outputs": [
    {
     "name": "stdout",
     "output_type": "stream",
     "text": [
      "[0. 0. 0. 0. 0. 0. 0. 0. 0. 0. 0. 0. 0. 0. 0. 0.]\n",
      "[0. 0. 0. 0. 0. 0. 0. 0. 0. 0. 0. 0. 0. 0. 0. 0.]\n"
     ]
    }
   ],
   "source": [
    "t1 = 1/np.sqrt(2) * kron(CNOT, np.eye(4)) @ kron(kron(z, bb1), z)\n",
    "s1 = 1/np.sqrt(2) * kron(z, kron(bb1, z))\n",
    "print(t1-s1)\n",
    "\n",
    "t2 = 1/np.sqrt(2) * kron(CNOT, np.eye(4)) @ kron(kron(o, bb1), z)\n",
    "s2 = 1/np.sqrt(2) * kron(o, kron(bb3, z))\n",
    "print(t2-s2)"
   ],
   "metadata": {
    "collapsed": false,
    "pycharm": {
     "name": "#%%\n"
    }
   }
  },
  {
   "cell_type": "code",
   "execution_count": 9,
   "outputs": [
    {
     "name": "stdout",
     "output_type": "stream",
     "text": [
      "[ 0.00000000e+00 -5.55111512e-17  0.00000000e+00  0.00000000e+00\n",
      "  0.00000000e+00  0.00000000e+00  0.00000000e+00 -5.55111512e-17\n",
      "  0.00000000e+00  0.00000000e+00  0.00000000e+00 -5.55111512e-17\n",
      "  0.00000000e+00 -5.55111512e-17  0.00000000e+00  0.00000000e+00]\n",
      "[ 0.00000000e+00 -5.55111512e-17  0.00000000e+00  0.00000000e+00\n",
      "  0.00000000e+00  0.00000000e+00  0.00000000e+00 -5.55111512e-17\n",
      "  0.00000000e+00  0.00000000e+00  0.00000000e+00  5.55111512e-17\n",
      "  0.00000000e+00  5.55111512e-17  0.00000000e+00  0.00000000e+00]\n"
     ]
    }
   ],
   "source": [
    "t1 = 1/np.sqrt(2) * kron(CNOT, np.eye(4)) @ kron(kron(plus, bb1), o)\n",
    "s1 = 1/2 * kron(kron(z, bb1) + kron(o, bb3), o)\n",
    "print(t1-s1)\n",
    "\n",
    "t2 = 1/np.sqrt(2) * kron(CNOT, np.eye(4)) @ kron(kron(minus, bb1), o)\n",
    "s2 = 1/2 * kron(kron(z, bb1) - kron(o, bb3), o)\n",
    "print(t2-s2)"
   ],
   "metadata": {
    "collapsed": false,
    "pycharm": {
     "name": "#%%\n"
    }
   }
  },
  {
   "cell_type": "code",
   "execution_count": 10,
   "outputs": [
    {
     "ename": "ValueError",
     "evalue": "matmul: Input operand 1 has a mismatch in its core dimension 0, with gufunc signature (n?,k),(k,m?)->(n?,m?) (size 8 is different from 16)",
     "output_type": "error",
     "traceback": [
      "\u001B[0;31m---------------------------------------------------------------------------\u001B[0m",
      "\u001B[0;31mValueError\u001B[0m                                Traceback (most recent call last)",
      "Input \u001B[0;32mIn [10]\u001B[0m, in \u001B[0;36m<cell line: 4>\u001B[0;34m()\u001B[0m\n\u001B[1;32m      3\u001B[0m CNOT_B \u001B[38;5;241m=\u001B[39m swap23 \u001B[38;5;241m@\u001B[39m kron(np\u001B[38;5;241m.\u001B[39meye(\u001B[38;5;241m4\u001B[39m), CNOT) \u001B[38;5;241m@\u001B[39m swap23\n\u001B[1;32m      4\u001B[0m \u001B[38;5;28;01mfor\u001B[39;00m b \u001B[38;5;129;01min\u001B[39;00m e_basis:\n\u001B[0;32m----> 5\u001B[0m     \u001B[38;5;28mprint\u001B[39m(\u001B[43mCNOT_A\u001B[49m\u001B[38;5;129;43m@CNOT_B\u001B[39;49m\u001B[38;5;129;43m@b\u001B[39;49m)\n\u001B[1;32m      6\u001B[0m     \u001B[38;5;28mprint\u001B[39m()\n",
      "\u001B[0;31mValueError\u001B[0m: matmul: Input operand 1 has a mismatch in its core dimension 0, with gufunc signature (n?,k),(k,m?)->(n?,m?) (size 8 is different from 16)"
     ]
    }
   ],
   "source": [
    "swap23 = kron(kron(I2, swap), I2)\n",
    "CNOT_A = swap23 @ kron(CNOT, np.eye(4)) @ swap23\n",
    "CNOT_B = swap23 @ kron(np.eye(4), CNOT) @ swap23\n",
    "for b in e_basis:\n",
    "    print(CNOT_A@CNOT_B@b)\n",
    "    print()"
   ],
   "metadata": {
    "collapsed": false,
    "pycharm": {
     "name": "#%%\n"
    }
   }
  },
  {
   "cell_type": "code",
   "execution_count": null,
   "outputs": [],
   "source": [
    "b1 = kron(plus, kron(z, plus))\n",
    "b2 = kron(plus, kron(z, minus))\n",
    "b3 = kron(plus, kron(o, plus))\n",
    "b4 = kron(plus, kron(o, minus))\n",
    "b5 = kron(minus, kron(z, plus))\n",
    "b6 = kron(minus, kron(z, minus))\n",
    "b7 = kron(minus, kron(o, plus))\n",
    "b8 = kron(minus, kron(o, minus))\n",
    "\n",
    "# b1 = kron(plus, kron(z, z))\n",
    "# b2 = kron(plus, kron(z, o))\n",
    "# b3 = kron(plus, kron(o, z))\n",
    "# b4 = kron(plus, kron(o, o))\n",
    "# b5 = kron(minus, kron(z, z))\n",
    "# b6 = kron(minus, kron(z, o))\n",
    "# b7 = kron(minus, kron(o, z))\n",
    "# b8 = kron(minus, kron(o, o))\n",
    "#\n",
    "# b1 = kron(z, kron(z, plus))\n",
    "# b2 = kron(z, kron(z, minus))\n",
    "# b3 = kron(z, kron(o, plus))\n",
    "# b4 = kron(z, kron(o, minus))\n",
    "# b5 = kron(o, kron(z, plus))\n",
    "# b6 = kron(o, kron(z, minus))\n",
    "# b7 = kron(o, kron(o, plus))\n",
    "# b8 = kron(o, kron(o, minus))\n",
    "\n",
    "basis = (b1, b2, b3, b4, b5, b6, b7, b8)\n",
    "t1 = 1/2*(zzz + ooz + zoo + ozo)\n",
    "t2 = 1/2*(zzz - ooz + zoo - ozo)\n",
    "for b in basis:\n",
    "    # print(b - test)\n",
    "    # print(b + test)\n",
    "    # print(np.max(np.abs(b - test)))\n",
    "    # print(np.max(np.abs(b + test)))\n",
    "    print(b.dot(t1))\n",
    "    # print(b.dot(t2))\n",
    "    print()\n"
   ],
   "metadata": {
    "collapsed": false,
    "pycharm": {
     "name": "#%%\n"
    }
   }
  },
  {
   "cell_type": "code",
   "execution_count": 17,
   "outputs": [
    {
     "name": "stdout",
     "output_type": "stream",
     "text": [
      "[[0.5 0.  0.  0. ]\n",
      " [0.  0.  0.  0. ]\n",
      " [0.  0.  0.  0. ]\n",
      " [0.  0.  0.  0.5]]\n"
     ]
    }
   ],
   "source": [
    "M1 = kron(I2, kron(z, I2))\n",
    "M2 = kron(I2, kron(o, I2))\n",
    "\n",
    "t1 = M1 @ ghz\n",
    "t2 = M2 @ ghz\n",
    "tr = np.outer(t1,t1) + np.outer(t2,t2)\n",
    "print(tr)"
   ],
   "metadata": {
    "collapsed": false,
    "pycharm": {
     "name": "#%%\n"
    }
   }
  },
  {
   "cell_type": "code",
   "execution_count": 14,
   "outputs": [
    {
     "data": {
      "text/plain": "<Figure size 640x480 with 1 Axes>",
      "image/png": "[encoded data removed]"
     },
     "metadata": {},
     "output_type": "display_data"
    }
   ],
   "source": [
    "plt.spy(np.outer(ghz, ghz), marker = 'o')\n",
    "plt.show()"
   ],
   "metadata": {
    "collapsed": false,
    "pycharm": {
     "name": "#%%\n"
    }
   }
  }
 ],
 "metadata": {
  "kernelspec": {
   "display_name": "Python 3",
   "language": "python",
   "name": "python3"
  },
  "language_info": {
   "codemirror_mode": {
    "name": "ipython",
    "version": 2
   },
   "file_extension": ".py",
   "mimetype": "text/x-python",
   "name": "python",
   "nbconvert_exporter": "python",
   "pygments_lexer": "ipython2",
   "version": "2.7.6"
  }
 },
 "nbformat": 4,
 "nbformat_minor": 0
}