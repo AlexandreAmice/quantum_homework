{
 "cells": [
  {
   "cell_type": "code",
   "execution_count": 10,
   "outputs": [],
   "source": [
    "import numpy as np\n",
    "import scipy.linalg as spl\n",
    "from numpy import kron"
   ],
   "metadata": {
    "collapsed": false,
    "pycharm": {
     "name": "#%%\n"
    }
   }
  },
  {
   "cell_type": "code",
   "execution_count": 11,
   "outputs": [],
   "source": [
    "\n",
    "z = np.array([1,0])\n",
    "o = np.array([0,1])\n",
    "basis1 = (z,o)\n",
    "\n",
    "\n",
    "zz = kron(z,z)\n",
    "zo = kron(z,o)\n",
    "oz = kron(o,z)\n",
    "oo = kron(o,o)\n",
    "basis2 = (zz,zo,oz,oo)\n",
    "\n",
    "zzz = kron(z,zz)\n",
    "zzo = kron(z,zo)\n",
    "zoz = kron(z,oz)\n",
    "zoo = kron(z,oo)\n",
    "ozz = kron(o,zz)\n",
    "ozo = kron(o,zo)\n",
    "ooz = kron(o,oz)\n",
    "ooo = kron(o,oo)\n",
    "basis3 = (zzz,\n",
    "          zzo,\n",
    "          zoz,\n",
    "          zoo,\n",
    "          ozz,\n",
    "          ozo,\n",
    "          ooz,\n",
    "          ooo)\n",
    "\n",
    "\n",
    "\n",
    "\n",
    "\n"
   ],
   "metadata": {
    "collapsed": false,
    "pycharm": {
     "name": "#%%\n"
    }
   }
  },
  {
   "cell_type": "code",
   "execution_count": 13,
   "outputs": [
    {
     "name": "stdout",
     "output_type": "stream",
     "text": [
      "[0 0 0 0]\n",
      "[0 0 0 0]\n",
      "[0 0 0 0]\n",
      "[0 0 0 0]\n"
     ]
    }
   ],
   "source": [
    "mat = np.hstack([\n",
    "    zo[:,np.newaxis],\n",
    "    zz[:,np.newaxis],\n",
    "    oz[:,np.newaxis],\n",
    "    -oo[:,np.newaxis],\n",
    "])\n",
    "expected = (zo, zz, oz, -oo)\n",
    "get = (mat@b for b in basis2)\n",
    "for s1, s2 in zip(expected, get):\n",
    "    print(s1-s2)"
   ],
   "metadata": {
    "collapsed": false,
    "pycharm": {
     "name": "#%%\n"
    }
   }
  },
  {
   "cell_type": "code",
   "execution_count": null,
   "outputs": [],
   "source": [],
   "metadata": {
    "collapsed": false,
    "pycharm": {
     "name": "#%%\n"
    }
   }
  }
 ],
 "metadata": {
  "kernelspec": {
   "display_name": "Python 3",
   "language": "python",
   "name": "python3"
  },
  "language_info": {
   "codemirror_mode": {
    "name": "ipython",
    "version": 2
   },
   "file_extension": ".py",
   "mimetype": "text/x-python",
   "name": "python",
   "nbconvert_exporter": "python",
   "pygments_lexer": "ipython2",
   "version": "2.7.6"
  }
 },
 "nbformat": 4,
 "nbformat_minor": 0
}