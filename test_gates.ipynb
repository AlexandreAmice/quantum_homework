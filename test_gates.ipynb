{
 "cells": [
  {
   "cell_type": "code",
   "execution_count": 1,
   "outputs": [],
   "source": [
    "import numpy as np\n",
    "import scipy.linalg as spl\n",
    "from numpy import kron\n",
    "from common_symbols import *"
   ],
   "metadata": {
    "collapsed": false,
    "pycharm": {
     "name": "#%%\n"
    }
   }
  },
  {
   "cell_type": "code",
   "execution_count": 2,
   "outputs": [
    {
     "name": "stdout",
     "output_type": "stream",
     "text": [
      "[0. 0. 0. 0. 0. 0. 0. 0.]\n",
      "[0. 0. 0. 0. 0. 0. 0. 0.]\n",
      "\n",
      "[0. 0. 0. 0. 0. 0. 0. 0.]\n",
      "[0. 0. 0. 0. 0. 0. 0. 0.]\n",
      "\n",
      "[0. 0. 0. 0. 0. 0. 0. 0.]\n",
      "[0. 0. 0. 0. 0. 0. 0. 0.]\n",
      "\n",
      "[0. 0. 0. 0. 0. 0. 0. 0.]\n",
      "[0. 0. 0. 0. 0. 0. 0. 0.]\n",
      "\n",
      "[0. 0. 0. 0. 0. 0. 0. 0.]\n",
      "[0. 0. 0. 0. 0. 0. 0. 0.]\n",
      "\n",
      "[0. 0. 0. 0. 0. 0. 0. 0.]\n",
      "[0. 0. 0. 0. 0. 0. 0. 0.]\n",
      "\n",
      "[0. 0. 0. 0. 0. 0. 0. 0.]\n",
      "[0. 0. 0. 0. 0. 0. 0. 0.]\n",
      "\n",
      "[0. 0. 0. 0. 0. 0. 0. 0.]\n",
      "[0. 0. 0. 0. 0. 0. 0. 0.]\n",
      "\n"
     ]
    }
   ],
   "source": [
    "#test SWAP_12\n",
    "expected_outputs = (\n",
    "    zzz,\n",
    "    zzo,\n",
    "    ozz,\n",
    "    ozo,\n",
    "    zoz,\n",
    "    zoo,\n",
    "    ooz,\n",
    "    ooo\n",
    ")\n",
    "for s1,s2 in zip(basis3, expected_outputs):\n",
    "    print(SWAP_12@s1 - s2)\n",
    "    print(s1 - SWAP_12@s2)\n",
    "    print()"
   ],
   "metadata": {
    "collapsed": false,
    "pycharm": {
     "name": "#%%\n"
    }
   }
  },
  {
   "cell_type": "code",
   "execution_count": 3,
   "outputs": [
    {
     "name": "stdout",
     "output_type": "stream",
     "text": [
      "[0. 0. 0. 0. 0. 0. 0. 0.]\n",
      "[0. 0. 0. 0. 0. 0. 0. 0.]\n",
      "\n",
      "[0. 0. 0. 0. 0. 0. 0. 0.]\n",
      "[0. 0. 0. 0. 0. 0. 0. 0.]\n",
      "\n",
      "[0. 0. 0. 0. 0. 0. 0. 0.]\n",
      "[0. 0. 0. 0. 0. 0. 0. 0.]\n",
      "\n",
      "[0. 0. 0. 0. 0. 0. 0. 0.]\n",
      "[0. 0. 0. 0. 0. 0. 0. 0.]\n",
      "\n",
      "[0. 0. 0. 0. 0. 0. 0. 0.]\n",
      "[0. 0. 0. 0. 0. 0. 0. 0.]\n",
      "\n",
      "[0. 0. 0. 0. 0. 0. 0. 0.]\n",
      "[0. 0. 0. 0. 0. 0. 0. 0.]\n",
      "\n",
      "[0. 0. 0. 0. 0. 0. 0. 0.]\n",
      "[0. 0. 0. 0. 0. 0. 0. 0.]\n",
      "\n",
      "[0. 0. 0. 0. 0. 0. 0. 0.]\n",
      "[0. 0. 0. 0. 0. 0. 0. 0.]\n",
      "\n"
     ]
    }
   ],
   "source": [
    "#test SWAP_23\n",
    "expected_outputs = (zzz,\n",
    "                    zoz,\n",
    "                    zzo,\n",
    "                    zoo,\n",
    "                    ozz,\n",
    "                    ooz,\n",
    "                    ozo,\n",
    "                    ooo\n",
    ")\n",
    "for s1,s2 in zip(basis3, expected_outputs):\n",
    "    print(SWAP_23@s1 - s2)\n",
    "    print(SWAP_23@s2 - s1)\n",
    "    print()"
   ],
   "metadata": {
    "collapsed": false,
    "pycharm": {
     "name": "#%%\n"
    }
   }
  },
  {
   "cell_type": "code",
   "execution_count": 4,
   "outputs": [
    {
     "name": "stdout",
     "output_type": "stream",
     "text": [
      "[1. 0. 0. 0. 0. 0. 0. 0.]\n",
      "[1. 0. 0. 0. 0. 0. 0. 0.]\n",
      "\n",
      "[0. 0. 0. 0. 1. 0. 0. 0.]\n",
      "[0. 0. 0. 0. 1. 0. 0. 0.]\n",
      "\n",
      "[0. 0. 1. 0. 0. 0. 0. 0.]\n",
      "[0. 0. 1. 0. 0. 0. 0. 0.]\n",
      "\n",
      "[0. 0. 0. 0. 0. 0. 1. 0.]\n",
      "[0. 0. 0. 0. 0. 0. 1. 0.]\n",
      "\n",
      "[0. 1. 0. 0. 0. 0. 0. 0.]\n",
      "[0. 1. 0. 0. 0. 0. 0. 0.]\n",
      "\n",
      "[0. 0. 0. 0. 0. 1. 0. 0.]\n",
      "[0. 0. 0. 0. 0. 1. 0. 0.]\n",
      "\n",
      "[0. 0. 0. 1. 0. 0. 0. 0.]\n",
      "[0. 0. 0. 1. 0. 0. 0. 0.]\n",
      "\n",
      "[0. 0. 0. 0. 0. 0. 0. 1.]\n",
      "[0. 0. 0. 0. 0. 0. 0. 1.]\n",
      "\n"
     ]
    }
   ],
   "source": [
    " #test SWAP_13\n",
    "\n",
    "expected_outputs = [\n",
    "      zzz,\n",
    "      ozz,\n",
    "      zoz,\n",
    "      ooz,\n",
    "      zzo,\n",
    "      ozo,\n",
    "      zoo,\n",
    "      ooo\n",
    "]\n",
    "tmp = SWAP_12 @ SWAP_23 @ SWAP_12 #np.hstack([t[:,np.newaxis] for t in expected_outputs]).astype(np.double)\n",
    "for s1,s2 in zip(basis3, expected_outputs):\n",
    "    print(tmp@s1)\n",
    "    print(s2.astype(np.double))\n",
    "    print()"
   ],
   "metadata": {
    "collapsed": false,
    "pycharm": {
     "name": "#%%\n"
    }
   }
  },
  {
   "cell_type": "code",
   "execution_count": 5,
   "outputs": [
    {
     "name": "stdout",
     "output_type": "stream",
     "text": [
      "[0. 0. 0. 0. 0. 0. 0. 0.]\n",
      "\n",
      "[0. 0. 0. 0. 0. 0. 0. 0.]\n",
      "\n",
      "[0. 0. 0. 0. 0. 0. 0. 0.]\n",
      "\n",
      "[0. 0. 0. 0. 0. 0. 0. 0.]\n",
      "\n",
      "[0. 0. 0. 0. 0. 0. 0. 0.]\n",
      "\n",
      "[0. 0. 0. 0. 0. 0. 0. 0.]\n",
      "\n",
      "[0. 0. 0. 0. 0. 0. 0. 0.]\n",
      "\n",
      "[0. 0. 0. 0. 0. 0. 0. 0.]\n",
      "\n"
     ]
    }
   ],
   "source": [
    "# test CNOT31\n",
    "\n",
    "expected_outputs = [\n",
    "      zzz,\n",
    "      ozo,\n",
    "      zoz,\n",
    "      ooo,\n",
    "      ozz,\n",
    "      zzo,\n",
    "      ooz,\n",
    "      zoo\n",
    "]\n",
    "for s1,s2 in zip(basis3, expected_outputs):\n",
    "    # print_apply(s, CH_31)\n",
    "    print(s2 - CNOT31@s1)\n",
    "    print()"
   ],
   "metadata": {
    "collapsed": false,
    "pycharm": {
     "name": "#%%\n"
    }
   }
  },
  {
   "cell_type": "code",
   "execution_count": 6,
   "outputs": [
    {
     "name": "stdout",
     "output_type": "stream",
     "text": [
      "[0. 0. 0. 0. 0. 0. 0. 0.]\n",
      "\n",
      "[0. 0. 0. 0. 0. 0. 0. 0.]\n",
      "\n",
      "[0. 0. 0. 0. 0. 0. 0. 0.]\n",
      "\n",
      "[0. 0. 0. 0. 0. 0. 0. 0.]\n",
      "\n",
      "[0. 0. 0. 0. 0. 0. 0. 0.]\n",
      "\n",
      "[0. 0. 0. 0. 0. 0. 0. 0.]\n",
      "\n",
      "[0. 0. 0. 0. 0. 0. 0. 0.]\n",
      "\n",
      "[0. 0. 0. 0. 0. 0. 0. 0.]\n",
      "\n"
     ]
    }
   ],
   "source": [
    "# test CNOT13\n",
    "\n",
    "expected_outputs = [\n",
    "      zzz,\n",
    "      zzo,\n",
    "      zoz,\n",
    "      zoo,\n",
    "      ozo,\n",
    "      ozz,\n",
    "      ooo,\n",
    "      ooz\n",
    "]\n",
    "for s1,s2 in zip(basis3, expected_outputs):\n",
    "    # print_apply(s, CH_31)\n",
    "    print(s2 - CNOT13@s1)\n",
    "    print()"
   ],
   "metadata": {
    "collapsed": false,
    "pycharm": {
     "name": "#%%\n"
    }
   }
  }
 ],
 "metadata": {
  "kernelspec": {
   "display_name": "Python 3",
   "language": "python",
   "name": "python3"
  },
  "language_info": {
   "codemirror_mode": {
    "name": "ipython",
    "version": 2
   },
   "file_extension": ".py",
   "mimetype": "text/x-python",
   "name": "python",
   "nbconvert_exporter": "python",
   "pygments_lexer": "ipython2",
   "version": "2.7.6"
  }
 },
 "nbformat": 4,
 "nbformat_minor": 0
}